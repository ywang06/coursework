{
 "cells": [
  {
   "cell_type": "code",
   "execution_count": 20,
   "metadata": {},
   "outputs": [],
   "source": [
    "import pandas as pd\n",
    "import matplotlib.pyplot as plt\n",
    "import numpy as np\n",
    "from sklearn.covariance import EllipticEnvelope\n",
    "from sklearn.neighbors import NearestNeighbors\n",
    "import scipy.stats as stats\n",
    "from sklearn import preprocessing\n",
    "from sklearn.neural_network import MLPClassifier\n",
    "\n",
    "import glob\n",
    "import os\n",
    "import scipy as sp\n",
    "import scipy.stats\n",
    "\n",
    "\n",
    "from sklearn.covariance import EllipticEnvelope\n",
    "\n",
    "import scipy.stats as stats\n",
    "\n",
    "from itertools import product\n",
    "\n"
   ]
  },
  {
   "cell_type": "code",
   "execution_count": 43,
   "metadata": {},
   "outputs": [
    {
     "name": "stderr",
     "output_type": "stream",
     "text": [
      "/anaconda3/lib/python3.6/site-packages/ipykernel_launcher.py:32: SettingWithCopyWarning: \n",
      "A value is trying to be set on a copy of a slice from a DataFrame.\n",
      "Try using .loc[row_indexer,col_indexer] = value instead\n",
      "\n",
      "See the caveats in the documentation: http://pandas.pydata.org/pandas-docs/stable/indexing.html#indexing-view-versus-copy\n"
     ]
    },
    {
     "name": "stdout",
     "output_type": "stream",
     "text": [
      "  Previous MI CHF Shock  LOS_updated  Estimated?\n",
      "0           0   0     0     4.000000           0\n",
      "1           0   0     1     3.000000           0\n",
      "2           0   1     0     5.000000           0\n",
      "3           0   1     1     3.000000           0\n",
      "4           1   0     0     4.000000           0\n",
      "5           1   0     1     5.000000           0\n",
      "6           1   1     0     4.500000           0\n",
      "7           1   1     1     4.118241           1\n"
     ]
    }
   ],
   "source": [
    "# Input file name and requested comorbidities\n",
    "filename = \"/Users/yingwang/Google Drive/Study2017/GeorgeMasonUniversity/Fall2018/HAP725/Week12/interpretValue/rawdata.csv\"\n",
    "newfilename = \"/Users/yingwang/Google Drive/Study2017/GeorgeMasonUniversity/Fall2018/HAP725/Week12/interpretValue/stat_comorbidity.csv\"\n",
    "full_list_request = 1\n",
    "request_comorbidities = [[1,0,1],[1,1,1]]\n",
    "comorbidity_columns = ['Previous MI', 'CHF', 'Shock']\n",
    "value_columns = 'LOS'\n",
    "\n",
    "\n",
    "if full_list_request:\n",
    "    number_col = len(comorbidity_columns)\n",
    "    all_comb = product(range(2), repeat=number_col)\n",
    "    request_comorbidities = [i for i in all_comb]\n",
    "\n",
    "df_requested_comorbidities = pd.DataFrame(columns=comorbidity_columns)\n",
    "for i in range(len(request_comorbidities)):\n",
    "    df_requested_comorbidities.loc[i] = request_comorbidities[i]\n",
    "# print(\"requested comborbidity is\")\n",
    "# print(df_requested_comorbidities)\n",
    "request_value_list = []\n",
    "estimated_list = []\n",
    "\n",
    "for request in request_comorbidities: \n",
    "    df = pd.read_csv(open(filename,'r',errors='ignore'),skip_blank_lines=True, error_bad_lines=False,low_memory=False)\n",
    "    df_known = df[(df.Clinician == 'Smith')]\n",
    "\n",
    "    distance_away = (df_known[comorbidity_columns] - np.array(request)).pow(2).sum(1).pow(0.5)\n",
    "    sum_value = 0\n",
    "    sum_distance = 0\n",
    "    estimated = 1\n",
    "\n",
    "    df_known['distance'] = pd.Series(distance_away, index=df_known.index)\n",
    "\n",
    "    for index, row in df_known.iterrows():\n",
    "        if row['distance'] != 0:\n",
    "            sum_value = row[value_columns]*row['Prob']/distance_away[index] + sum_value\n",
    "            sum_distance = row['Prob']/distance_away[index] + sum_distance\n",
    "        else:\n",
    "            sum_value = row[value_columns]\n",
    "            sum_distance = 1\n",
    "            estimated = 0\n",
    "            break\n",
    "    \n",
    "    requested_value = sum_value/sum_distance\n",
    "    request_value_list.append(requested_value)\n",
    "    estimated_list.append(estimated)\n",
    "\n",
    "df_requested_comorbidities['LOS_updated'] = pd.Series(request_value_list, index = df_requested_comorbidities.index)\n",
    "df_requested_comorbidities['Estimated?'] = pd.Series(estimated_list, index = df_requested_comorbidities.index)\n",
    "\n",
    "df_requested_comorbidities.to_csv(newfilename)\n",
    "\n",
    "print(df_requested_comorbidities)\n"
   ]
  },
  {
   "cell_type": "code",
   "execution_count": null,
   "metadata": {},
   "outputs": [],
   "source": []
  },
  {
   "cell_type": "code",
   "execution_count": null,
   "metadata": {},
   "outputs": [],
   "source": []
  },
  {
   "cell_type": "code",
   "execution_count": null,
   "metadata": {},
   "outputs": [],
   "source": []
  }
 ],
 "metadata": {
  "kernelspec": {
   "display_name": "Python 3",
   "language": "python",
   "name": "python3"
  },
  "language_info": {
   "codemirror_mode": {
    "name": "ipython",
    "version": 3
   },
   "file_extension": ".py",
   "mimetype": "text/x-python",
   "name": "python",
   "nbconvert_exporter": "python",
   "pygments_lexer": "ipython3",
   "version": "3.6.5"
  }
 },
 "nbformat": 4,
 "nbformat_minor": 2
}
