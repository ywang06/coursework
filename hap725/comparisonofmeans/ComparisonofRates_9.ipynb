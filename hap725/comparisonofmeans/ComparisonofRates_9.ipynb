{
 "cells": [
  {
   "cell_type": "code",
   "execution_count": 1,
   "metadata": {},
   "outputs": [],
   "source": [
    "\n",
    "%matplotlib inline\n",
    "import pandas as pd\n",
    "import matplotlib.pyplot as plt\n",
    "import numpy as np\n",
    "from sklearn.covariance import EllipticEnvelope\n",
    "from sklearn.neighbors import NearestNeighbors\n",
    "import scipy.stats as stats\n",
    "from sklearn import preprocessing\n",
    "from sklearn.neural_network import MLPClassifier\n",
    "\n",
    "import glob\n",
    "import os\n",
    "import scipy as sp\n",
    "import scipy.stats\n",
    "\n",
    "\n",
    "from sklearn.covariance import EllipticEnvelope\n",
    "\n",
    "import scipy.stats as stats\n",
    "\n",
    "\n"
   ]
  },
  {
   "cell_type": "code",
   "execution_count": 27,
   "metadata": {},
   "outputs": [
    {
     "name": "stdout",
     "output_type": "stream",
     "text": [
      "[['SOUTHEAST ALABAMA MEDICAL CENTER' 'MORT_30_CABG' '269' '3.7'\n",
      "  '07/01/2011' '06/30/2014']\n",
      " ['SOUTHEAST ALABAMA MEDICAL CENTER' 'MORT_30_CABG' '278' '4.2'\n",
      "  '07/01/2012' '06/30/2015']\n",
      " ['SOUTHEAST ALABAMA MEDICAL CENTER' 'MORT_30_CABG' '280' '3.5'\n",
      "  '07/01/2013' '06/30/2016']\n",
      " ['SOUTHEAST ALABAMA MEDICAL CENTER' 'MORT_30_CABG' '269' '3.7'\n",
      "  '07/01/2011' '06/30/2014']\n",
      " ['SOUTHEAST ALABAMA MEDICAL CENTER' 'MORT_30_CABG' '269' '3.7'\n",
      "  '07/01/2011' '06/30/2014']\n",
      " ['SOUTHEAST ALABAMA MEDICAL CENTER' 'MORT_30_CABG' '280' '3.5'\n",
      "  '07/01/2013' '06/30/2016']\n",
      " ['SOUTHEAST ALABAMA MEDICAL CENTER' 'MORT_30_CABG' '278' '4.2'\n",
      "  '07/01/2012' '06/30/2015']\n",
      " ['SOUTHEAST ALABAMA MEDICAL CENTER' 'MORT_30_CABG' '269' '3.7'\n",
      "  '07/01/2011' '06/30/2014']\n",
      " ['SOUTHEAST ALABAMA MEDICAL CENTER' 'MORT_30_CABG' '278' '4.2'\n",
      "  '07/01/2012' '06/30/2015']\n",
      " ['SOUTHEAST ALABAMA MEDICAL CENTER' 'MORT_30_CABG' '278' '4.2'\n",
      "  '07/01/2012' '06/30/2015']\n",
      " ['SOUTHEAST ALABAMA MEDICAL CENTER' 'MORT_30_CABG' '280' '3.5'\n",
      "  '07/01/2013' '06/30/2016']\n",
      " ['SOUTHEAST ALABAMA MEDICAL CENTER' 'MORT_30_CABG' '302' '4.5'\n",
      "  '07/01/2014' '06/30/2017']]\n",
      "12\n",
      "                                   0             1    2    3           4  \\\n",
      "0   SOUTHEAST ALABAMA MEDICAL CENTER  MORT_30_CABG  269  3.7  07/01/2011   \n",
      "1   SOUTHEAST ALABAMA MEDICAL CENTER  MORT_30_CABG  278  4.2  07/01/2012   \n",
      "2   SOUTHEAST ALABAMA MEDICAL CENTER  MORT_30_CABG  280  3.5  07/01/2013   \n",
      "11  SOUTHEAST ALABAMA MEDICAL CENTER  MORT_30_CABG  302  4.5  07/01/2014   \n",
      "\n",
      "             5  \n",
      "0   06/30/2014  \n",
      "1   06/30/2015  \n",
      "2   06/30/2016  \n",
      "11  06/30/2017  \n"
     ]
    }
   ],
   "source": [
    "i = 0\n",
    "dir_file = '/Users/yingwang/Google Drive/Study2017/GeorgeMasonUniversity/Fall2018/HAP725/Week7/Question6/rawfile'\n",
    "des_file = '/Users/yingwang/Google Drive/Study2017/GeorgeMasonUniversity/Fall2018/HAP725/Week8/assignment/p9/summary.csv'\n",
    "# dir_file = '/Users/yingwang/Google Drive/Study2017/GeorgeMasonUniversity/Summer2018/HAP780/Week7/'\n",
    "selected_file = '*Death*Hospital*.csv'#Complications and Deaths - Hosita\n",
    "selected_columns = ['Hospital Name','Measure ID', 'Denominator','Score','Measure Start Date','Measure End Date']\n",
    "selected_row = 'MORT_30_CABG'\n",
    "selected_name = 'SOUTHEAST ALABAMA MEDICAL CENTER'\n",
    "for path, dirs, files in os.walk(dir_file):\n",
    "        for d in dirs:\n",
    "            for filename in glob.iglob(os.path.join(path, d, selected_file)):\n",
    "#                 print(filename)\n",
    "                df_by_period = pd.read_csv(open(filename,'r',errors='ignore'),skip_blank_lines=True, error_bad_lines=False,low_memory=False)\n",
    "                df_select_row1 = df_by_period.loc[df_by_period['Measure ID'] == selected_row]\n",
    "                df_select_row = df_select_row1.loc[df_select_row1['Hospital Name'] == selected_name ]\n",
    "                if df_select_row.empty == False:\n",
    "                    df_select = df_select_row[selected_columns]\n",
    "                    if i == 0:\n",
    "                        df_all = df_select\n",
    "                    else:\n",
    "                        df_all = np.append(df_all, df_select, axis = 0)\n",
    "                    i = i + 1\n",
    "print(df_all)\n",
    "print(i)\n",
    "df = pd.DataFrame(df_all)\n",
    "df_new = df.drop_duplicates(inplace=False)\n",
    "print(df_new)\n",
    "df_new.columns = selected_columns\n",
    "df_new.to_csv(des_file)\n",
    "                    \n",
    "#                 df_Bidir = df_Bidir.dropna()\n",
    "#                 Bidir_1d = np.reshape(df_by_period.values, (1,np.shape(df_Bidir.values)[0]*np.shape(df_Bidir.values)[1]))\n",
    "#                 if i == 0:\n",
    "#                     Bidir_all = Bidir_1d\n",
    "#                 else:\n",
    "#                     Bidir_all = np.append(Bidir_all,Bidir_1d, axis = 0)\n",
    "#                 i = i + 1\n",
    "\n",
    "\n"
   ]
  },
  {
   "cell_type": "code",
   "execution_count": null,
   "metadata": {},
   "outputs": [],
   "source": []
  },
  {
   "cell_type": "code",
   "execution_count": null,
   "metadata": {},
   "outputs": [],
   "source": []
  }
 ],
 "metadata": {
  "kernelspec": {
   "display_name": "Python 3",
   "language": "python",
   "name": "python3"
  },
  "language_info": {
   "codemirror_mode": {
    "name": "ipython",
    "version": 3
   },
   "file_extension": ".py",
   "mimetype": "text/x-python",
   "name": "python",
   "nbconvert_exporter": "python",
   "pygments_lexer": "ipython3",
   "version": "3.6.5"
  }
 },
 "nbformat": 4,
 "nbformat_minor": 2
}
