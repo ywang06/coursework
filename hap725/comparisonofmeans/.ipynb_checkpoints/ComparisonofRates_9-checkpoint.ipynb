{
 "cells": [
  {
   "cell_type": "code",
   "execution_count": 2,
   "metadata": {},
   "outputs": [],
   "source": [
    "\n",
    "%matplotlib inline\n",
    "import pandas as pd\n",
    "import matplotlib.pyplot as plt\n",
    "import numpy as np\n",
    "from sklearn.covariance import EllipticEnvelope\n",
    "from sklearn.neighbors import NearestNeighbors\n",
    "import scipy.stats as stats\n",
    "from sklearn import preprocessing\n",
    "from sklearn.neural_network import MLPClassifier\n",
    "\n",
    "import glob\n",
    "import os\n",
    "import scipy as sp\n",
    "import scipy.stats\n",
    "\n",
    "\n",
    "from sklearn.covariance import EllipticEnvelope\n",
    "\n",
    "import scipy.stats as stats\n",
    "\n",
    "\n"
   ]
  },
  {
   "cell_type": "code",
   "execution_count": 97,
   "metadata": {},
   "outputs": [
    {
     "name": "stdout",
     "output_type": "stream",
     "text": [
      "[['UNIVERSITY OF ALABAMA HOSPITAL' 1212.99 23846 '04/01/2013'\n",
      "  '12/31/2013']\n",
      " ['UNIVERSITY OF ALABAMA HOSPITAL' '918.01' '30314' '01/01/2014'\n",
      "  '12/31/2014']\n",
      " ['UNIVERSITY OF ALABAMA HOSPITAL' '441.63' '29399' '01/01/2015'\n",
      "  '12/31/2015']\n",
      " ['UNIVERSITY OF ALABAMA HOSPITAL' '918.01' '30314' '01/01/2014'\n",
      "  '12/31/2014']\n",
      " ['UNIVERSITY OF ALABAMA HOSPITAL' 1212.99 23846 '04/01/2013'\n",
      "  '12/31/2013']\n",
      " ['UNIVERSITY OF ALABAMA HOSPITAL' '661.31' '15732' '10/01/2012'\n",
      "  '03/31/2013']\n",
      " ['UNIVERSITY OF ALABAMA HOSPITAL' '661.31' '15732' '10/01/2012'\n",
      "  '03/31/2013']\n",
      " ['UNIVERSITY OF ALABAMA HOSPITAL' '441.63' '29399' '01/01/2015'\n",
      "  '12/31/2015']\n",
      " ['UNIVERSITY OF ALABAMA HOSPITAL' '661.31' '15732' '10/01/2012'\n",
      "  '03/31/2013']\n",
      " ['UNIVERSITY OF ALABAMA HOSPITAL' 1212.99 23846 '04/01/2013'\n",
      "  '12/31/2013']\n",
      " ['UNIVERSITY OF ALABAMA HOSPITAL' '661.31' '15732' '10/01/2012'\n",
      "  '03/31/2013']\n",
      " ['UNIVERSITY OF ALABAMA HOSPITAL' '918.01' '30314' '01/01/2014'\n",
      "  '12/31/2014']\n",
      " ['UNIVERSITY OF ALABAMA HOSPITAL' '661.31' '15732' '10/01/2012'\n",
      "  '03/31/2013']\n",
      " ['UNIVERSITY OF ALABAMA HOSPITAL' '441.63' '29399' '01/01/2015'\n",
      "  '12/31/2015']\n",
      " ['UNIVERSITY OF ALABAMA HOSPITAL' 1212.99 23846 '04/01/2013'\n",
      "  '12/31/2013']\n",
      " ['UNIVERSITY OF ALABAMA HOSPITAL' 1212.99 23846 '04/01/2013'\n",
      "  '12/31/2013']]\n",
      "16\n",
      "                                0        1      2           3           4\n",
      "0  UNIVERSITY OF ALABAMA HOSPITAL  1212.99  23846  04/01/2013  12/31/2013\n",
      "1  UNIVERSITY OF ALABAMA HOSPITAL   918.01  30314  01/01/2014  12/31/2014\n",
      "2  UNIVERSITY OF ALABAMA HOSPITAL   441.63  29399  01/01/2015  12/31/2015\n",
      "5  UNIVERSITY OF ALABAMA HOSPITAL   661.31  15732  10/01/2012  03/31/2013\n"
     ]
    }
   ],
   "source": [
    "i = 0\n",
    "dir_file = '/Users/yingwang/Google Drive/Study2017/GeorgeMasonUniversity/Fall2018/HAP725/Week7/Question6/rawfile'\n",
    "# dir_file = '/Users/yingwang/Google Drive/Study2017/GeorgeMasonUniversity/Summer2018/HAP780/Week7/'\n",
    "selected_file = '*.csv'\n",
    "selected_columns = ['Provider ID','Measure ID', 'Denominator','Score','Start_Date', 'End_Date']\n",
    "selected_row = 'MORT_30_CABG'\n",
    "selected_name = '10001'\n",
    "for path, dirs, files in os.walk(dir_file):\n",
    "        for d in dirs:\n",
    "            for filename in glob.iglob(os.path.join(path, d, selected_file)):\n",
    "#                 print(filename)\n",
    "                df_by_period = pd.read_csv(open(filename,'r',errors='ignore'),skip_blank_lines=True, error_bad_lines=False,low_memory=False)\n",
    "                df_select_columns = df_by_period[selected_columns]\n",
    "                df_select_rows = df_select_columns.loc[df_select_columns['Provider ID'] == selected_name and df_select_columns['Measure ID'] == selected_row]\n",
    "                if df_select_rows.empty == False:\n",
    "                    if i == 0:\n",
    "                        df_all = df_select_rows\n",
    "                    else:\n",
    "                        df_all = np.append(df_all, df_select_rows, axis = 0)\n",
    "                    i = i + 1\n",
    "print(df_all)\n",
    "print(i)\n",
    "df = pd.DataFrame(df_all)\n",
    "df_new = df.drop_duplicates(inplace=False)\n",
    "print(df_new)\n",
    "df_new.columns = selected_columns\n",
    "df_new.to_csv(\"/Users/yingwang/Google Drive/Study2017/GeorgeMasonUniversity/Fall2018/HAP725/Week7/Question6/Files/summary.csv\")\n",
    "                    \n",
    "#                 df_Bidir = df_Bidir.dropna()\n",
    "#                 Bidir_1d = np.reshape(df_by_period.values, (1,np.shape(df_Bidir.values)[0]*np.shape(df_Bidir.values)[1]))\n",
    "#                 if i == 0:\n",
    "#                     Bidir_all = Bidir_1d\n",
    "#                 else:\n",
    "#                     Bidir_all = np.append(Bidir_all,Bidir_1d, axis = 0)\n",
    "#                 i = i + 1\n",
    "\n",
    "\n"
   ]
  },
  {
   "cell_type": "code",
   "execution_count": null,
   "metadata": {},
   "outputs": [],
   "source": [
    "HOSPITAL_QUARTERLY_IPFQR_MEASURES_HOSPITAL.csv\n",
    "\n",
    "QUARTERLY_QUALITYMEASURE_IPFQR_HOSPITAL_20150416.csv"
   ]
  },
  {
   "cell_type": "code",
   "execution_count": null,
   "metadata": {},
   "outputs": [],
   "source": []
  }
 ],
 "metadata": {
  "kernelspec": {
   "display_name": "Python 3",
   "language": "python",
   "name": "python3"
  },
  "language_info": {
   "codemirror_mode": {
    "name": "ipython",
    "version": 3
   },
   "file_extension": ".py",
   "mimetype": "text/x-python",
   "name": "python",
   "nbconvert_exporter": "python",
   "pygments_lexer": "ipython3",
   "version": "3.6.5"
  }
 },
 "nbformat": 4,
 "nbformat_minor": 2
}
