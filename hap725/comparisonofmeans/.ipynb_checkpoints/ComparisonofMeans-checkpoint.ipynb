{
 "cells": [
  {
   "cell_type": "code",
   "execution_count": 2,
   "metadata": {},
   "outputs": [],
   "source": [
    "\n",
    "%matplotlib inline\n",
    "import pandas as pd\n",
    "import matplotlib.pyplot as plt\n",
    "import numpy as np\n",
    "from sklearn.covariance import EllipticEnvelope\n",
    "from sklearn.neighbors import NearestNeighbors\n",
    "import scipy.stats as stats\n",
    "from sklearn import preprocessing\n",
    "from sklearn.neural_network import MLPClassifier\n",
    "\n",
    "import glob\n",
    "import os\n",
    "import scipy as sp\n",
    "import scipy.stats\n",
    "\n",
    "\n",
    "from sklearn.covariance import EllipticEnvelope\n",
    "\n",
    "import scipy.stats as stats\n",
    "\n",
    "\n"
   ]
  },
  {
   "cell_type": "code",
   "execution_count": 31,
   "metadata": {},
   "outputs": [
    {
     "name": "stdout",
     "output_type": "stream",
     "text": [
      "/Users/yingwang/Google Drive/Study2017/GeorgeMasonUniversity/Fall2018/HAP725/Week7/Question6/Files/hospital/HOSPITAL_QUARTERLY_QUALITYMEASURE_IPFQR_HOSPITAL_20151210.csv\n",
      "/Users/yingwang/Google Drive/Study2017/GeorgeMasonUniversity/Fall2018/HAP725/Week7/Question6/Files/hospital/HOSPITAL_QUARTERLY_IPFQR_MEASURES_HOSPITAL_20161219.csv\n",
      "/Users/yingwang/Google Drive/Study2017/GeorgeMasonUniversity/Fall2018/HAP725/Week7/Question6/Files/hospital/HOSPITAL_QUARTERLY_QUALITYMEASURE_IPFQR_HOSPITAL_20150122.csv\n",
      "/Users/yingwang/Google Drive/Study2017/GeorgeMasonUniversity/Fall2018/HAP725/Week7/Question6/Files/hospital/HOSPITAL_QUARTERLY_IPFQR_MEASURES_HOSPITAL_20160504.csv\n",
      "/Users/yingwang/Google Drive/Study2017/GeorgeMasonUniversity/Fall2018/HAP725/Week7/Question6/Files/hospital/HOSPITAL_QUARTERLY_IPFQR_MEASURES_HOSPITAL_20171024.csv\n",
      "/Users/yingwang/Google Drive/Study2017/GeorgeMasonUniversity/Fall2018/HAP725/Week7/Question6/Files/hospital/HOSPITAL_QUARTERLY_QUALITYMEASURE_IPFQR_HOSPITAL_20150416.csv\n",
      "/Users/yingwang/Google Drive/Study2017/GeorgeMasonUniversity/Fall2018/HAP725/Week7/Question6/Files/hospital/HOSPITAL_QUARTERLY_IPFQR_MEASURES_HOSPITAL_20161110.csv\n",
      "/Users/yingwang/Google Drive/Study2017/GeorgeMasonUniversity/Fall2018/HAP725/Week7/Question6/Files/hospital/HOSPITAL_QUARTERLY_IPFQR_MEASURES_HOSPITAL_20160810.csv\n",
      "/Users/yingwang/Google Drive/Study2017/GeorgeMasonUniversity/Fall2018/HAP725/Week7/Question6/Files/hospital/HOSPITAL_QUARTERLY_QUALITYMEASURE_IPFQR_HOSPITAL_20140417.csv\n",
      "/Users/yingwang/Google Drive/Study2017/GeorgeMasonUniversity/Fall2018/HAP725/Week7/Question6/Files/hospital/HOSPITAL_QUARTERLY_QUALITYMEASURE_IPFQR_HOSPITAL_20150716.csv\n",
      "/Users/yingwang/Google Drive/Study2017/GeorgeMasonUniversity/Fall2018/HAP725/Week7/Question6/Files/hospital/HOSPITAL_QUARTERLY_QUALITYMEASURE_IPFQR_HOSPITAL_20141023.csv\n",
      "/Users/yingwang/Google Drive/Study2017/GeorgeMasonUniversity/Fall2018/HAP725/Week7/Question6/Files/hospital/HOSPITAL_QUARTERLY_QUALITYMEASURE_IPFQR_HOSPITAL_20150506.csv\n",
      "/Users/yingwang/Google Drive/Study2017/GeorgeMasonUniversity/Fall2018/HAP725/Week7/Question6/Files/hospital/HOSPITAL_QUARTERLY_QUALITYMEASURE_IPFQR_HOSPITAL_20141218.csv\n",
      "/Users/yingwang/Google Drive/Study2017/GeorgeMasonUniversity/Fall2018/HAP725/Week7/Question6/Files/hospital/HOSPITAL_QUARTERLY_QUALITYMEASURE_IPFQR_HOSPITAL_20151008.csv\n",
      "/Users/yingwang/Google Drive/Study2017/GeorgeMasonUniversity/Fall2018/HAP725/Week7/Question6/Files/hospital/HOSPITAL_QUARTERLY_QUALITYMEASURE_IPFQR_HOSPITAL_20140717.csv\n"
     ]
    }
   ],
   "source": [
    "\n",
    "dir_file = '/Users/yingwang/Google Drive/Study2017/GeorgeMasonUniversity/Fall2018/HAP725/Week7/Question6/Files'\n",
    "# dir_file = '/Users/yingwang/Google Drive/Study2017/GeorgeMasonUniversity/Summer2018/HAP780/Week7/'\n",
    "for path, dirs, files in os.walk(dir_file):\n",
    "        for d in dirs:\n",
    "            for filename in glob.iglob(os.path.join(path, d, 'HOSPITAL*QUARTERLY*IPFQR*HOSPITAL*.csv')):\n",
    "                print(filename)\n",
    "#                 with open(filename, 'rt') as infile, open(outfile_path, 'wt') as outfile:\n",
    "#                     outfile.writelines(row for row_num, row in enumerate(infile, FIRST_ROW_NUM)\n",
    "#                                         if (((row_num < start_num + num_samples) and (row_num > start_num) ) or (row_num == 0)))\n",
    "#                 df_Bidir = pd.read_csv(open(outfile_path,'r',errors='ignore'),skip_blank_lines=True, error_bad_lines=False,low_memory=False)\n",
    "#                 df_Bidir = df_Bidir.dropna()\n",
    "#                 Bidir_1d = np.reshape(df_Bidir.values, (1,np.shape(df_Bidir.values)[0]*np.shape(df_Bidir.values)[1]))\n",
    "#                 if i == 0:\n",
    "#                     Bidir_all = Bidir_1d\n",
    "#                 else:\n",
    "#                     Bidir_all = np.append(Bidir_all,Bidir_1d, axis = 0)\n",
    "#                 i = i + 1\n",
    "\n",
    "\n"
   ]
  },
  {
   "cell_type": "code",
   "execution_count": null,
   "metadata": {},
   "outputs": [],
   "source": []
  },
  {
   "cell_type": "code",
   "execution_count": null,
   "metadata": {},
   "outputs": [],
   "source": []
  }
 ],
 "metadata": {
  "kernelspec": {
   "display_name": "Python 3",
   "language": "python",
   "name": "python3"
  },
  "language_info": {
   "codemirror_mode": {
    "name": "ipython",
    "version": 3
   },
   "file_extension": ".py",
   "mimetype": "text/x-python",
   "name": "python",
   "nbconvert_exporter": "python",
   "pygments_lexer": "ipython3",
   "version": "3.6.5"
  }
 },
 "nbformat": 4,
 "nbformat_minor": 2
}
