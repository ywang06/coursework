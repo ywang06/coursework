{
 "cells": [
  {
   "cell_type": "code",
   "execution_count": 2,
   "metadata": {},
   "outputs": [],
   "source": [
    "\n",
    "%matplotlib inline\n",
    "import pandas as pd\n",
    "import matplotlib.pyplot as plt\n",
    "import numpy as np\n",
    "from sklearn.covariance import EllipticEnvelope\n",
    "from sklearn.neighbors import NearestNeighbors\n",
    "import scipy.stats as stats\n",
    "from sklearn import preprocessing\n",
    "from sklearn.neural_network import MLPClassifier\n",
    "\n",
    "import glob\n",
    "import os\n",
    "import scipy as sp\n",
    "import scipy.stats\n",
    "\n",
    "\n",
    "from sklearn.covariance import EllipticEnvelope\n",
    "\n",
    "import scipy.stats as stats\n",
    "\n",
    "\n"
   ]
  },
  {
   "cell_type": "code",
   "execution_count": 15,
   "metadata": {},
   "outputs": [
    {
     "name": "stdout",
     "output_type": "stream",
     "text": [
      "HOSArchive_20150506\n",
      "HOSArchive_20150416\n",
      "HOSArchive_20150122\n",
      "HOSArchive_20150716\n",
      "HOSArchive_20151210\n",
      "Hospital_20161110\n",
      "HOSArchive_20160504\n",
      "HOSArchive_20160810\n",
      "HOSArchive_20151008\n"
     ]
    },
    {
     "ename": "NameError",
     "evalue": "name 'df_all' is not defined",
     "output_type": "error",
     "traceback": [
      "\u001b[0;31m---------------------------------------------------------------------------\u001b[0m",
      "\u001b[0;31mNameError\u001b[0m                                 Traceback (most recent call last)",
      "\u001b[0;32m<ipython-input-15-bdeff94ae49e>\u001b[0m in \u001b[0;36m<module>\u001b[0;34m()\u001b[0m\n\u001b[1;32m     23\u001b[0m                         \u001b[0mdf_all\u001b[0m \u001b[0;34m=\u001b[0m \u001b[0mnp\u001b[0m\u001b[0;34m.\u001b[0m\u001b[0mappend\u001b[0m\u001b[0;34m(\u001b[0m\u001b[0mdf_all\u001b[0m\u001b[0;34m,\u001b[0m \u001b[0mdf_select\u001b[0m\u001b[0;34m,\u001b[0m \u001b[0maxis\u001b[0m \u001b[0;34m=\u001b[0m \u001b[0;36m0\u001b[0m\u001b[0;34m)\u001b[0m\u001b[0;34m\u001b[0m\u001b[0m\n\u001b[1;32m     24\u001b[0m                     \u001b[0mi\u001b[0m \u001b[0;34m=\u001b[0m \u001b[0mi\u001b[0m \u001b[0;34m+\u001b[0m \u001b[0;36m1\u001b[0m\u001b[0;34m\u001b[0m\u001b[0m\n\u001b[0;32m---> 25\u001b[0;31m \u001b[0mprint\u001b[0m\u001b[0;34m(\u001b[0m\u001b[0mdf_all\u001b[0m\u001b[0;34m)\u001b[0m\u001b[0;34m\u001b[0m\u001b[0m\n\u001b[0m\u001b[1;32m     26\u001b[0m \u001b[0mprint\u001b[0m\u001b[0;34m(\u001b[0m\u001b[0mi\u001b[0m\u001b[0;34m)\u001b[0m\u001b[0;34m\u001b[0m\u001b[0m\n\u001b[1;32m     27\u001b[0m \u001b[0mdf\u001b[0m \u001b[0;34m=\u001b[0m \u001b[0mpd\u001b[0m\u001b[0;34m.\u001b[0m\u001b[0mDataFrame\u001b[0m\u001b[0;34m(\u001b[0m\u001b[0mdf_all\u001b[0m\u001b[0;34m)\u001b[0m\u001b[0;34m\u001b[0m\u001b[0m\n",
      "\u001b[0;31mNameError\u001b[0m: name 'df_all' is not defined"
     ]
    }
   ],
   "source": [
    "i = 0\n",
    "dir_file = '/Users/yingwang/Google Drive/Study2017/GeorgeMasonUniversity/Fall2018/HAP725/Week10/Assignment/Turkeychart/p2/rawdata'\n",
    "des_file = '/Users/yingwang/Google Drive/Study2017/GeorgeMasonUniversity/Fall2018/HAP725/Week10/Assignment/Turkeychart/p2/summary.csv'\n",
    "# dir_file = '/Users/yingwang/Google Drive/Study2017/GeorgeMasonUniversity/Summer2018/HAP780/Week7/'\n",
    "selected_file = '*TimelyEffectiveCare*.csv'#Complications and Deaths - Hosita\n",
    "selected_columns = ['Hospital Name','Measure ID', 'Denominator','Score','Measure Start Date','Measure End Date']\n",
    "selected_row = 'MORT_30_CABG'\n",
    "selected_name = 'Inova Fairfax Medical Center'\n",
    "for path, dirs, files in os.walk(dir_file):\n",
    "        for d in dirs:\n",
    "            for filename in glob.iglob(os.path.join(path, d, selected_file)):\n",
    "                print(filename)\n",
    "                df_by_period = pd.read_csv(open(filename,'r',errors='ignore'),skip_blank_lines=True, error_bad_lines=False,low_memory=False)\n",
    "                print(df_by_period.columns)\n",
    "                df_select_row1 = df_by_period.loc[df_by_period['Measure ID'] == selected_row]\n",
    "                df_select_row = df_select_row1.loc[df_select_row1['Hospital Name'] == selected_name ]\n",
    "                if df_select_row.empty == False:\n",
    "                    df_select = df_select_row[selected_columns]\n",
    "                    if i == 0:\n",
    "                        df_all = df_select\n",
    "                    else:\n",
    "                        df_all = np.append(df_all, df_select, axis = 0)\n",
    "                    i = i + 1\n",
    "print(df_all)\n",
    "print(i)\n",
    "df = pd.DataFrame(df_all)\n",
    "df_new = df.drop_duplicates(inplace=False)\n",
    "print(df_new)\n",
    "df_new.columns = selected_columns\n",
    "df_new.to_csv(des_file)\n",
    "                    \n",
    "#                 df_Bidir = df_Bidir.dropna()\n",
    "#                 Bidir_1d = np.reshape(df_by_period.values, (1,np.shape(df_Bidir.values)[0]*np.shape(df_Bidir.values)[1]))\n",
    "#                 if i == 0:\n",
    "#                     Bidir_all = Bidir_1d\n",
    "#                 else:\n",
    "#                     Bidir_all = np.append(Bidir_all,Bidir_1d, axis = 0)\n",
    "#                 i = i + 1\n",
    "\n",
    "\n"
   ]
  },
  {
   "cell_type": "code",
   "execution_count": null,
   "metadata": {},
   "outputs": [],
   "source": []
  },
  {
   "cell_type": "code",
   "execution_count": null,
   "metadata": {},
   "outputs": [],
   "source": []
  }
 ],
 "metadata": {
  "kernelspec": {
   "display_name": "Python 3",
   "language": "python",
   "name": "python3"
  },
  "language_info": {
   "codemirror_mode": {
    "name": "ipython",
    "version": 3
   },
   "file_extension": ".py",
   "mimetype": "text/x-python",
   "name": "python",
   "nbconvert_exporter": "python",
   "pygments_lexer": "ipython3",
   "version": "3.6.5"
  }
 },
 "nbformat": 4,
 "nbformat_minor": 2
}
